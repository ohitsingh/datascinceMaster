{
 "cells": [
  {
   "cell_type": "code",
   "execution_count": 1,
   "id": "c8657d56-fb1b-4e3b-815f-062c3e354525",
   "metadata": {},
   "outputs": [],
   "source": [
    "a=10"
   ]
  },
  {
   "cell_type": "code",
   "execution_count": 2,
   "id": "31c96713-05e8-45c6-adaa-e59336293436",
   "metadata": {},
   "outputs": [
    {
     "data": {
      "text/plain": [
       "10"
      ]
     },
     "execution_count": 2,
     "metadata": {},
     "output_type": "execute_result"
    }
   ],
   "source": [
    "a\n"
   ]
  },
  {
   "cell_type": "code",
   "execution_count": 3,
   "id": "d42cb23d-e441-4195-ab04-f3e6297bdbd8",
   "metadata": {},
   "outputs": [
    {
     "data": {
      "text/plain": [
       "int"
      ]
     },
     "execution_count": 3,
     "metadata": {},
     "output_type": "execute_result"
    }
   ],
   "source": [
    "type(a)"
   ]
  },
  {
   "cell_type": "code",
   "execution_count": 4,
   "id": "df052425-8d4c-40df-920a-d32ba05bde38",
   "metadata": {},
   "outputs": [
    {
     "data": {
      "text/plain": [
       "str"
      ]
     },
     "execution_count": 4,
     "metadata": {},
     "output_type": "execute_result"
    }
   ],
   "source": [
    "a='c'\n",
    "type(a)"
   ]
  },
  {
   "cell_type": "code",
   "execution_count": 5,
   "id": "ecdc10cc-971a-4a1c-87ea-719f3cca3020",
   "metadata": {},
   "outputs": [
    {
     "data": {
      "text/plain": [
       "0"
      ]
     },
     "execution_count": 5,
     "metadata": {},
     "output_type": "execute_result"
    }
   ],
   "source": [
    "int()"
   ]
  },
  {
   "cell_type": "code",
   "execution_count": 6,
   "id": "47b1c6a8-2035-4bf7-a430-5a1578938e5b",
   "metadata": {},
   "outputs": [
    {
     "data": {
      "text/plain": [
       "123"
      ]
     },
     "execution_count": 6,
     "metadata": {},
     "output_type": "execute_result"
    }
   ],
   "source": [
    "int('123')"
   ]
  },
  {
   "cell_type": "code",
   "execution_count": 7,
   "id": "5d445f74-2d35-4f60-a776-685bf404bcea",
   "metadata": {},
   "outputs": [
    {
     "ename": "ValueError",
     "evalue": "invalid literal for int() with base 10: 'abc'",
     "output_type": "error",
     "traceback": [
      "\u001b[0;31m---------------------------------------------------------------------------\u001b[0m",
      "\u001b[0;31mValueError\u001b[0m                                Traceback (most recent call last)",
      "Cell \u001b[0;32mIn[7], line 1\u001b[0m\n\u001b[0;32m----> 1\u001b[0m \u001b[38;5;28;43mint\u001b[39;49m\u001b[43m(\u001b[49m\u001b[38;5;124;43m'\u001b[39;49m\u001b[38;5;124;43mabc\u001b[39;49m\u001b[38;5;124;43m'\u001b[39;49m\u001b[43m)\u001b[49m\n",
      "\u001b[0;31mValueError\u001b[0m: invalid literal for int() with base 10: 'abc'"
     ]
    }
   ],
   "source": [
    "int('abc')"
   ]
  },
  {
   "cell_type": "code",
   "execution_count": 8,
   "id": "3117b2ea-05b9-4b63-990a-e4eb1136d6fb",
   "metadata": {},
   "outputs": [
    {
     "name": "stdout",
     "output_type": "stream",
     "text": [
      "hello\n"
     ]
    }
   ],
   "source": [
    "print(\"hello\")"
   ]
  },
  {
   "cell_type": "code",
   "execution_count": 10,
   "id": "25cbf8ed-805a-4511-8d5b-126f5526ec33",
   "metadata": {},
   "outputs": [
    {
     "name": "stdout",
     "output_type": "stream",
     "text": [
      "123\n"
     ]
    }
   ],
   "source": [
    "print(123)"
   ]
  },
  {
   "cell_type": "code",
   "execution_count": 11,
   "id": "4b4b5d77-2eab-4570-91ab-8c8c19dd43f1",
   "metadata": {},
   "outputs": [],
   "source": [
    "age=32"
   ]
  },
  {
   "cell_type": "code",
   "execution_count": 13,
   "id": "32d847b8-c4e2-48a5-9da5-7aba9df14aac",
   "metadata": {},
   "outputs": [
    {
     "name": "stdout",
     "output_type": "stream",
     "text": [
      "My age is 32\n"
     ]
    }
   ],
   "source": [
    "print('My age is',age)"
   ]
  },
  {
   "cell_type": "code",
   "execution_count": 16,
   "id": "2941505b-bf75-4f71-a2f4-2bc4c0853dcf",
   "metadata": {},
   "outputs": [
    {
     "name": "stdout",
     "output_type": "stream",
     "text": [
      "My age is:{age}\n"
     ]
    }
   ],
   "source": [
    "print(\"My age is:{age}\")"
   ]
  },
  {
   "cell_type": "code",
   "execution_count": 17,
   "id": "c33eaaed-9145-482c-9b07-43c8acbf21b0",
   "metadata": {},
   "outputs": [
    {
     "name": "stdout",
     "output_type": "stream",
     "text": [
      "My age is32\n"
     ]
    }
   ],
   "source": [
    "print(f\"My age is{age}\")"
   ]
  },
  {
   "cell_type": "code",
   "execution_count": 18,
   "id": "252c3278-8a9c-4ffd-9a1f-ab5e017653d8",
   "metadata": {},
   "outputs": [],
   "source": [
    "#f -> f string -> to call variable inside print statement \n"
   ]
  },
  {
   "cell_type": "code",
   "execution_count": 19,
   "id": "3f08094b-3a56-4424-a380-a2821ec8ec96",
   "metadata": {},
   "outputs": [],
   "source": [
    "##format()"
   ]
  },
  {
   "cell_type": "code",
   "execution_count": 20,
   "id": "8b4fb69f-a418-446b-9b51-7e1d3f3af3cd",
   "metadata": {},
   "outputs": [],
   "source": [
    "name=\"mohit\""
   ]
  },
  {
   "cell_type": "code",
   "execution_count": 21,
   "id": "431e9607-d018-4386-b9e9-a85f7d014a10",
   "metadata": {},
   "outputs": [
    {
     "name": "stdout",
     "output_type": "stream",
     "text": [
      "my anme is mohit  and age is23\n"
     ]
    }
   ],
   "source": [
    "age=23\n",
    "print(\"my anme is {}  and age is{}\".format(name,age))"
   ]
  },
  {
   "cell_type": "code",
   "execution_count": 23,
   "id": "3c807f46-8057-49d4-8226-a71354674425",
   "metadata": {},
   "outputs": [
    {
     "name": "stdout",
     "output_type": "stream",
     "text": [
      "my name is mohit and age is 23\n"
     ]
    }
   ],
   "source": [
    "print(\"my name is {fristName} and age is {myAge}\".format(fristName=name,myAge=age))"
   ]
  },
  {
   "cell_type": "code",
   "execution_count": 24,
   "id": "f7a0a11c-3712-413d-86ce-674d2efd3c85",
   "metadata": {},
   "outputs": [],
   "source": [
    "## control flow\n",
    "## decision making statement"
   ]
  },
  {
   "cell_type": "code",
   "execution_count": 25,
   "id": "5862dc02-9831-4d51-bb41-207fc74e7d50",
   "metadata": {},
   "outputs": [
    {
     "name": "stdout",
     "output_type": "stream",
     "text": [
      "you are eligible to vote\n"
     ]
    }
   ],
   "source": [
    "## if statements\n",
    "age=18\n",
    "if age>=18:\n",
    "    print(\"you are eligible to vote\")"
   ]
  },
  {
   "cell_type": "code",
   "execution_count": 31,
   "id": "ad3eff02-a085-4c81-afe0-057bae5e6c2f",
   "metadata": {},
   "outputs": [
    {
     "name": "stdout",
     "output_type": "stream",
     "text": [
      "you are not eligible to vote\n"
     ]
    }
   ],
   "source": [
    "age=17\n",
    "if age<18:\n",
    "    print(\"you are not eligible to vote\")"
   ]
  },
  {
   "cell_type": "code",
   "execution_count": 32,
   "id": "42e56145-38cd-459d-bfad-c03395670de8",
   "metadata": {},
   "outputs": [
    {
     "name": "stdin",
     "output_type": "stream",
     "text": [
      " mohit singh\n"
     ]
    },
    {
     "data": {
      "text/plain": [
       "'mohit singh'"
      ]
     },
     "execution_count": 32,
     "metadata": {},
     "output_type": "execute_result"
    }
   ],
   "source": [
    "input()"
   ]
  },
  {
   "cell_type": "code",
   "execution_count": 33,
   "id": "45dd02f3-f861-4f0a-875d-d270a617f992",
   "metadata": {},
   "outputs": [
    {
     "name": "stdin",
     "output_type": "stream",
     "text": [
      "enter a name  Mohit\n"
     ]
    }
   ],
   "source": [
    "name=input(\"enter a name \")"
   ]
  },
  {
   "cell_type": "code",
   "execution_count": 34,
   "id": "8264be31-503a-4193-9aa7-cdb6632150c0",
   "metadata": {},
   "outputs": [
    {
     "data": {
      "text/plain": [
       "'Mohit'"
      ]
     },
     "execution_count": 34,
     "metadata": {},
     "output_type": "execute_result"
    }
   ],
   "source": [
    "name\n"
   ]
  },
  {
   "cell_type": "code",
   "execution_count": 36,
   "id": "f5848f7e-6b3a-4e30-9a18-d5b81189213f",
   "metadata": {},
   "outputs": [
    {
     "name": "stdin",
     "output_type": "stream",
     "text": [
      "enter your age  21\n"
     ]
    }
   ],
   "source": [
    "age=int(input(\"enter your age \"))"
   ]
  },
  {
   "cell_type": "code",
   "execution_count": 37,
   "id": "c4b46bc6-e323-4502-b6c1-d9b0d07ed1f0",
   "metadata": {},
   "outputs": [
    {
     "data": {
      "text/plain": [
       "int"
      ]
     },
     "execution_count": 37,
     "metadata": {},
     "output_type": "execute_result"
    }
   ],
   "source": [
    "type(age)"
   ]
  },
  {
   "cell_type": "code",
   "execution_count": 38,
   "id": "b254a3c9-1fac-45b9-b675-ac41574b2a74",
   "metadata": {},
   "outputs": [],
   "source": [
    "##task 1\n",
    "## take a input of age\n",
    "## check whether age >=18 and age<=32\n",
    "## display a message you are young blood"
   ]
  },
  {
   "cell_type": "code",
   "execution_count": 47,
   "id": "b8d6ca08-46dc-412e-b909-174a759e5a68",
   "metadata": {},
   "outputs": [
    {
     "name": "stdin",
     "output_type": "stream",
     "text": [
      "please enter your age 45\n"
     ]
    }
   ],
   "source": [
    "age=int(input('please enter your age'))\n"
   ]
  },
  {
   "cell_type": "code",
   "execution_count": 48,
   "id": "becb1038-76fb-4aeb-a0d0-6956d56acbe1",
   "metadata": {},
   "outputs": [
    {
     "name": "stdout",
     "output_type": "stream",
     "text": [
      "enjoy now you are adult\n"
     ]
    }
   ],
   "source": [
    "if age>=18 and age<=32:\n",
    "    print(\"you are young blood\")\n",
    "else:\n",
    "        print(\"enjoy now you are adult\")"
   ]
  },
  {
   "cell_type": "code",
   "execution_count": 54,
   "id": "c5a5b2e9-4660-4b38-93cf-b7250ae644ed",
   "metadata": {},
   "outputs": [
    {
     "name": "stdin",
     "output_type": "stream",
     "text": [
      "please enter price of product you bought 1000\n"
     ]
    },
    {
     "name": "stdout",
     "output_type": "stream",
     "text": [
      "original price of product 700.0\n"
     ]
    }
   ],
   "source": [
    "price=int(input('please enter price of product you bought'))\n",
    "if price>1000:\n",
    "    dis=20/100*price\n",
    "    price=price-dis\n",
    "    print(f'original price of product {price}')\n",
    "else:\n",
    "    dis=30/100*price\n",
    "    price=price-dis\n",
    "    print(f'original price of product {price}')"
   ]
  },
  {
   "cell_type": "code",
   "execution_count": null,
   "id": "4bbbc72d-a926-42d1-8e4e-54021cd7a546",
   "metadata": {},
   "outputs": [],
   "source": []
  }
 ],
 "metadata": {
  "kernelspec": {
   "display_name": "Python 3 (ipykernel)",
   "language": "python",
   "name": "python3"
  },
  "language_info": {
   "codemirror_mode": {
    "name": "ipython",
    "version": 3
   },
   "file_extension": ".py",
   "mimetype": "text/x-python",
   "name": "python",
   "nbconvert_exporter": "python",
   "pygments_lexer": "ipython3",
   "version": "3.10.8"
  }
 },
 "nbformat": 4,
 "nbformat_minor": 5
}
