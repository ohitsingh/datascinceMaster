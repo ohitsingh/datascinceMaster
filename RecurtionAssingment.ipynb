{
 "cells": [
  {
   "cell_type": "markdown",
   "id": "bf047a3c-a498-4e05-ba7c-c4a708536c00",
   "metadata": {},
   "source": [
    "# 1 Can you explain the logic and working of the Tower of Hanoi algorithm by writing a Java program?\n",
    "How does the recursion work, and how are the movements of disks between rods accomplished?"
   ]
  },
  {
   "cell_type": "code",
   "execution_count": 27,
   "id": "4b4226f6-c2a5-4700-8b6e-807beadd624d",
   "metadata": {},
   "outputs": [],
   "source": [
    "def TOH(n,a,b,c):\n",
    "    if n == 1:\n",
    "        print(\"Move 1st disk from \",a,\" to \",c)\n",
    "        return\n",
    "        \n",
    "    TOH(n-1,a,c,b)\n",
    "    print(\"Move \",n,\"th disk from\", a, \" to \",c)\n",
    "    TOH(n-1,b,a,c)"
   ]
  },
  {
   "cell_type": "code",
   "execution_count": 29,
   "id": "427912d7-8e60-447f-8f38-23a9616b2a24",
   "metadata": {},
   "outputs": [
    {
     "name": "stdout",
     "output_type": "stream",
     "text": [
      "Move 1st disk from  s  to  d\n",
      "Move  2 th disk from s  to  h\n",
      "Move 1st disk from  d  to  h\n",
      "Move  3 th disk from s  to  d\n",
      "Move 1st disk from  h  to  s\n",
      "Move  2 th disk from h  to  d\n",
      "Move 1st disk from  s  to  d\n"
     ]
    }
   ],
   "source": [
    "TOH(3,'s','h','d')"
   ]
  },
  {
   "cell_type": "markdown",
   "id": "03ba9552-2bc6-4d91-8579-282c79ea8fef",
   "metadata": {},
   "source": [
    "# Q.2 Given two strings word1 and word2, return the minimum number of operations required to convert word1\n",
    "to word2.\n",
    "Example 1:\n",
    "Input: word1 = \"horse\", word2 = \"ros\"\n",
    "Output: 3\n",
    "Explanation:\n",
    "horse -> rorse (replace 'h' with 'r')\n",
    "rorse -> rose (remove 'r')\n",
    "rose -> ros (remove 'e')"
   ]
  },
  {
   "cell_type": "code",
   "execution_count": 30,
   "id": "970977ad-52e1-4909-bd22-cab22daaf70f",
   "metadata": {},
   "outputs": [
    {
     "name": "stdout",
     "output_type": "stream",
     "text": [
      "3\n"
     ]
    }
   ],
   "source": [
    "def minDistance(word1, word2):\n",
    "   \n",
    "    if not word1:\n",
    "        return len(word2)\n",
    "    if not word2:\n",
    "        return len(word1)\n",
    "\n",
    "    if word1[-1] == word2[-1]:\n",
    "        return minDistance(word1[:-1], word2[:-1])\n",
    "\n",
    "    \n",
    "    insert_op = 1 + minDistance(word1, word2[:-1])  \n",
    "    delete_op = 1 + minDistance(word1[:-1], word2)  \n",
    "    replace_op = 1 + minDistance(word1[:-1], word2[:-1])\n",
    "\n",
    "    return min(insert_op, delete_op, replace_op)\n",
    "\n",
    "word1 = \"horse\"\n",
    "word2 = \"ros\"\n",
    "print(minDistance(word1, word2))"
   ]
  },
  {
   "cell_type": "markdown",
   "id": "14155689-dea8-435a-b185-ac4fa6f92ae3",
   "metadata": {},
   "source": [
    "# Q. 3 Print the max value of the array [ 13, 1, -3, 22, 5]."
   ]
  },
  {
   "cell_type": "code",
   "execution_count": 31,
   "id": "59c60735-63eb-4be5-ae66-766acabac533",
   "metadata": {},
   "outputs": [],
   "source": [
    "def maxValue(arr):\n",
    "    maxArr = 0\n",
    "    for num in arr:\n",
    "        if num > maxArr:\n",
    "            maxArr = num\n",
    "    return maxArr\n",
    "        "
   ]
  },
  {
   "cell_type": "code",
   "execution_count": 33,
   "id": "e3769721-eb99-461e-8398-c40a2595dd3f",
   "metadata": {},
   "outputs": [
    {
     "data": {
      "text/plain": [
       "22"
      ]
     },
     "execution_count": 33,
     "metadata": {},
     "output_type": "execute_result"
    }
   ],
   "source": [
    "maxValue([ 13, 1, -3, 22, 5])"
   ]
  },
  {
   "cell_type": "markdown",
   "id": "50f9e3c6-f822-43aa-a26a-4593f808927e",
   "metadata": {},
   "source": [
    "# Q.4 Find the sum of the values of the array [92, 23, 15, -20, 10]."
   ]
  },
  {
   "cell_type": "code",
   "execution_count": 34,
   "id": "2a20492b-7b8e-49af-ab3e-5c7b108b1652",
   "metadata": {},
   "outputs": [],
   "source": [
    "def sumArray(arr):\n",
    "    sum = 0\n",
    "    \n",
    "    for num in arr:\n",
    "        sum += num\n",
    "    return sum"
   ]
  },
  {
   "cell_type": "code",
   "execution_count": 35,
   "id": "95276630-f724-433b-a679-f4e0cf09eeba",
   "metadata": {},
   "outputs": [
    {
     "data": {
      "text/plain": [
       "120"
      ]
     },
     "execution_count": 35,
     "metadata": {},
     "output_type": "execute_result"
    }
   ],
   "source": [
    "sumArray([92, 23, 15, -20, 10])"
   ]
  },
  {
   "cell_type": "markdown",
   "id": "ca16fa6f-6c82-4a5d-8509-890d6ed35408",
   "metadata": {},
   "source": [
    "# Q.5 Given a number n. Print if it is an armstrong number or not.An armstrong number is a number if the sum\n",
    "of every digit in that number raised to the power of total digits in that number is equal to the number."
   ]
  },
  {
   "cell_type": "code",
   "execution_count": 67,
   "id": "c37742b5-df66-40c9-a0f7-c81d342f5ab5",
   "metadata": {},
   "outputs": [],
   "source": [
    "def isArmStrong(num):\n",
    "    numStr = str(num)\n",
    "    strLen = len(numStr)\n",
    "    \n",
    "    armStrongSum = sum(int(digit)**strLen for digit in numStr)\n",
    "    \n",
    "    return armStrongSum == num\n",
    "   \n",
    "    \n",
    " \n",
    "    \n",
    "    "
   ]
  },
  {
   "cell_type": "code",
   "execution_count": 68,
   "id": "cd536533-2807-49ed-9b8b-17e8e1bfcfa1",
   "metadata": {},
   "outputs": [
    {
     "data": {
      "text/plain": [
       "False"
      ]
     },
     "execution_count": 68,
     "metadata": {},
     "output_type": "execute_result"
    }
   ],
   "source": [
    "isArmStrong(13)"
   ]
  },
  {
   "cell_type": "code",
   "execution_count": 79,
   "id": "6504d0ae-75a0-4ced-9b1c-d9496bcc30a9",
   "metadata": {},
   "outputs": [],
   "source": [
    "def isArmStrong(num):\n",
    "    numStr = str(num)\n",
    "    strLen = len(numStr)\n",
    "    \n",
    "    armstrongSum = 0\n",
    "    \n",
    "    for digit in numStr:\n",
    "         armstrongSum += int(digit)**strLen\n",
    "    \n",
    "    \n",
    "    return armstrongSum == num\n"
   ]
  },
  {
   "cell_type": "code",
   "execution_count": 81,
   "id": "7666d130-df56-42d8-b3d0-c1d6675d7e0c",
   "metadata": {},
   "outputs": [
    {
     "data": {
      "text/plain": [
       "True"
      ]
     },
     "execution_count": 81,
     "metadata": {},
     "output_type": "execute_result"
    }
   ],
   "source": [
    "isArmStrong(153)"
   ]
  },
  {
   "cell_type": "code",
   "execution_count": null,
   "id": "f767ff23-a79d-42c1-a3f6-1ab1ca846d5c",
   "metadata": {},
   "outputs": [],
   "source": []
  }
 ],
 "metadata": {
  "kernelspec": {
   "display_name": "Python 3 (ipykernel)",
   "language": "python",
   "name": "python3"
  },
  "language_info": {
   "codemirror_mode": {
    "name": "ipython",
    "version": 3
   },
   "file_extension": ".py",
   "mimetype": "text/x-python",
   "name": "python",
   "nbconvert_exporter": "python",
   "pygments_lexer": "ipython3",
   "version": "3.10.8"
  }
 },
 "nbformat": 4,
 "nbformat_minor": 5
}
