{
 "cells": [
  {
   "cell_type": "markdown",
   "id": "d534e9b1-dec1-4f56-9b72-29b1c73208a5",
   "metadata": {},
   "source": [
    "# TOPIC: Python Basics Variable"
   ]
  },
  {
   "cell_type": "markdown",
   "id": "f3604b19-61e1-46a1-92bc-6de4a5ca6d15",
   "metadata": {},
   "source": [
    "## 1. Declare two variables, `x` and `y`, and assign them integer values. Swap the values of these variables without using any temporary variable."
   ]
  },
  {
   "cell_type": "code",
   "execution_count": 2,
   "id": "0797e037-4927-4ad8-b36e-a42d63537d09",
   "metadata": {},
   "outputs": [
    {
     "name": "stdout",
     "output_type": "stream",
     "text": [
      "Value of a =  20\n",
      "Value of b =  10\n"
     ]
    }
   ],
   "source": [
    "a = 10\n",
    "b = 20\n",
    "\n",
    "a=a+b \n",
    "b=a-b\n",
    "a=a-b\n",
    "\n",
    "print(\"Value of a = \",a)\n",
    "print(\"Value of b = \" ,b)"
   ]
  },
  {
   "cell_type": "markdown",
   "id": "d14b9799-3bff-4221-a559-a7c045e1b45a",
   "metadata": {},
   "source": [
    "## 2. Create a program that calculates the area of a rectangle. Take the length and width as inputs from the user and store them in variables. Calculate and display the area."
   ]
  },
  {
   "cell_type": "code",
   "execution_count": 3,
   "id": "18f36f68-4ddc-445a-ad74-7e82cce00269",
   "metadata": {},
   "outputs": [
    {
     "name": "stdin",
     "output_type": "stream",
     "text": [
      "Please enter length of rectangel 20\n",
      "Please enter width of rectangel 30\n"
     ]
    },
    {
     "name": "stdout",
     "output_type": "stream",
     "text": [
      "Area of rectangle is  600\n"
     ]
    }
   ],
   "source": [
    "l = int(input(\"Please enter length of rectangel\"))\n",
    "b = int(input(\"Please enter width of rectangel\"))\n",
    "\n",
    "area = (l*b)\n",
    "\n",
    "print(\"Area of rectangle is \",area)"
   ]
  },
  {
   "cell_type": "markdown",
   "id": "9b250520-147b-46be-8727-2d7e330fd495",
   "metadata": {},
   "source": [
    "## 3. Write a Python program that converts temperatures from Celsius to Fahrenheit. Take the temperature in Celsius as input, store it in a variable, convert it to Fahrenheit, and display the result."
   ]
  },
  {
   "cell_type": "code",
   "execution_count": 4,
   "id": "fc39e04b-f8d4-4171-9cbf-1ab8587af967",
   "metadata": {},
   "outputs": [
    {
     "name": "stdin",
     "output_type": "stream",
     "text": [
      "Please enter temp. in *C 25\n"
     ]
    },
    {
     "name": "stdout",
     "output_type": "stream",
     "text": [
      "25*C = 77.0*F\n"
     ]
    }
   ],
   "source": [
    "#F = (C × 9/5) + 32\n",
    "\n",
    "tempC = int(input(\"Please enter temp. in *C\"))\n",
    "\n",
    "tempF = (tempC*9/5)+32\n",
    "\n",
    "print(f\"{tempC }*C = {tempF}*F\")"
   ]
  },
  {
   "cell_type": "markdown",
   "id": "123a64a5-3c8c-4a45-8a52-54a0a4d63613",
   "metadata": {},
   "source": [
    "# TOPIC: String Based Questions"
   ]
  },
  {
   "cell_type": "markdown",
   "id": "4d37ab0c-2232-4fc5-917a-b0ace87c570c",
   "metadata": {},
   "source": [
    "## 1. Write a Python program that takes a string as input and prints the length of the string."
   ]
  },
  {
   "cell_type": "code",
   "execution_count": 5,
   "id": "b80919ce-d56e-4f9d-9d38-e9f2e07798ca",
   "metadata": {},
   "outputs": [
    {
     "name": "stdin",
     "output_type": "stream",
     "text": [
      "tell me about yourself Hi my name is Mohit Singh\n"
     ]
    },
    {
     "name": "stdout",
     "output_type": "stream",
     "text": [
      "length of string is  25\n"
     ]
    }
   ],
   "source": [
    "inputString = input(\"tell me about yourself\")\n",
    "lengthString = len(inputString)\n",
    "print(\"length of string is \",lengthString)"
   ]
  },
  {
   "cell_type": "markdown",
   "id": "5e543cb7-d780-44c5-9132-00f70c85f3ee",
   "metadata": {},
   "source": [
    "## 2. Create a program that takes a sentence from the user and counts the number of vowels (a, e, i, o, u) in the string."
   ]
  },
  {
   "cell_type": "markdown",
   "id": "c9621820-709f-45fe-ba33-2e02e0af08f4",
   "metadata": {},
   "source": [
    "inputString = input(\"tell me about yourself\")\n",
    "\n",
    "vowelsCount = 0\n",
    "# only concedering small letter\n",
    "vowelSet = {'a','e','i','o','u'}\n",
    "\n",
    "for char in inputString:\n",
    "    if char in vowelSet:\n",
    "        vowelsCount = vowelsCount+1\n",
    "\n",
    "print(\"Vowels Count in input string is \",vowelsCount)"
   ]
  },
  {
   "cell_type": "markdown",
   "id": "1355d9fa-2d9b-435e-875c-2f6fc98bbfff",
   "metadata": {},
   "source": [
    "## 3. Given a string, reverse the order of characters using string slicing and print the reversed string."
   ]
  },
  {
   "cell_type": "code",
   "execution_count": 8,
   "id": "529596e1-3862-4107-977e-0d5276ed6b30",
   "metadata": {},
   "outputs": [
    {
     "name": "stdout",
     "output_type": "stream",
     "text": [
      "Reverse of mohitSingh is hgniStihom\n"
     ]
    }
   ],
   "source": [
    "name = 'mohitSingh'\n",
    "revStr = name[::-1]\n",
    "print(f\"Reverse of {name} is {revStr}\")"
   ]
  },
  {
   "cell_type": "markdown",
   "id": "7dc2939d-a7b4-43e7-9551-6596ed5d6139",
   "metadata": {},
   "source": [
    "## 4. Write a program that takes a string as input and checks if it is a palindrome (reads the same forwards and backwards)."
   ]
  },
  {
   "cell_type": "code",
   "execution_count": 11,
   "id": "0405a7b4-de25-4358-bd8b-8ef232f696c8",
   "metadata": {},
   "outputs": [
    {
     "name": "stdin",
     "output_type": "stream",
     "text": [
      "please enter string MOM\n"
     ]
    },
    {
     "name": "stdout",
     "output_type": "stream",
     "text": [
      "input string is palindrome \n"
     ]
    }
   ],
   "source": [
    "inputStr = input('please enter string')\n",
    "\n",
    "revString = inputStr[::-1]\n",
    "\n",
    "if revString == inputStr:\n",
    "    print(\"input string is palindrome \")\n",
    "else:\n",
    "     print(\"input string is not palindrome \")"
   ]
  },
  {
   "cell_type": "markdown",
   "id": "c3b61e21-9440-40c7-92ac-7012ff1afbae",
   "metadata": {},
   "source": [
    "## "
   ]
  }
 ],
 "metadata": {
  "kernelspec": {
   "display_name": "Python 3 (ipykernel)",
   "language": "python",
   "name": "python3"
  },
  "language_info": {
   "codemirror_mode": {
    "name": "ipython",
    "version": 3
   },
   "file_extension": ".py",
   "mimetype": "text/x-python",
   "name": "python",
   "nbconvert_exporter": "python",
   "pygments_lexer": "ipython3",
   "version": "3.10.8"
  }
 },
 "nbformat": 4,
 "nbformat_minor": 5
}
