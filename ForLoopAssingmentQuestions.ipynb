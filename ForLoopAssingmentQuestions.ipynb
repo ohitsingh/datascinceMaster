{
 "cells": [
  {
   "cell_type": "markdown",
   "id": "b4121fcd-94f8-4242-8117-e87be8ce20b7",
   "metadata": {},
   "source": [
    "# Basic Level:"
   ]
  },
  {
   "cell_type": "markdown",
   "id": "61fe1536-ebd0-453f-b20c-84fe754de2d2",
   "metadata": {},
   "source": [
    "## 1. Write a Python program to print the numbers from 1 to 10 using a `for` loop.\n"
   ]
  },
  {
   "cell_type": "code",
   "execution_count": 55,
   "id": "033f4860-8e0c-4bcf-b6b9-c77576982c03",
   "metadata": {},
   "outputs": [
    {
     "name": "stdout",
     "output_type": "stream",
     "text": [
      "1\n",
      "2\n",
      "3\n",
      "4\n",
      "5\n",
      "6\n",
      "7\n",
      "8\n",
      "9\n",
      "10\n"
     ]
    }
   ],
   "source": [
    "for i in range(1,11):\n",
    "    print(i)"
   ]
  },
  {
   "cell_type": "markdown",
   "id": "9bd20c7f-d086-4601-9838-0deaefb88864",
   "metadata": {},
   "source": [
    "## 2. Create a program that calculates the sum of all numbers in a list using a `for` loop."
   ]
  },
  {
   "cell_type": "code",
   "execution_count": 56,
   "id": "e7ad3867-ba19-4cd5-b110-cfca6e1a12be",
   "metadata": {},
   "outputs": [
    {
     "name": "stdout",
     "output_type": "stream",
     "text": [
      "10\n"
     ]
    }
   ],
   "source": [
    "a= [1,2,3,4]\n",
    "sum =0\n",
    "\n",
    "for i in a:\n",
    "    sum +=i\n",
    "print(sum)"
   ]
  },
  {
   "cell_type": "markdown",
   "id": "487c6e85-c6ab-463a-9472-55c7196e63a5",
   "metadata": {},
   "source": [
    "## 3. Write a program to print the characters of a string in reverse order using a `for` loop."
   ]
  },
  {
   "cell_type": "code",
   "execution_count": 57,
   "id": "8e89557f-be83-4532-93ea-6cd3f37a8f73",
   "metadata": {},
   "outputs": [
    {
     "name": "stdout",
     "output_type": "stream",
     "text": [
      "tihom"
     ]
    }
   ],
   "source": [
    "inputStr = \"mohit\"\n",
    "\n",
    "for i in reversed(inputStr):\n",
    "    print(i,end='')"
   ]
  },
  {
   "cell_type": "markdown",
   "id": "3481bcd2-b917-4a24-bc04-780316865eb0",
   "metadata": {},
   "source": [
    "## 4. Develop a program that finds the factorial of a given number using a `for` loop."
   ]
  },
  {
   "cell_type": "code",
   "execution_count": 59,
   "id": "43422e2b-dbc7-420a-a4d4-3c9cd4696192",
   "metadata": {},
   "outputs": [
    {
     "name": "stdin",
     "output_type": "stream",
     "text": [
      "please enter number to find factorial 45\n"
     ]
    },
    {
     "name": "stdout",
     "output_type": "stream",
     "text": [
      "119622220865480194561963161495657715064383733760000000000\n"
     ]
    }
   ],
   "source": [
    "num = int(input(\"please enter number to find factorial\"))\n",
    "\n",
    "fact =1\n",
    "\n",
    "for i in range(1,num+1):\n",
    "    fact *= i\n",
    "\n",
    "print(fact)"
   ]
  },
  {
   "cell_type": "markdown",
   "id": "b525a384-c141-4509-92b7-1fd08e3a4bbc",
   "metadata": {},
   "source": [
    "## 5. Create a program to print the multiplication table of a given number using a `for` loop."
   ]
  },
  {
   "cell_type": "code",
   "execution_count": 60,
   "id": "6ff95f02-52c0-4c4a-bf59-3bfeb42361f1",
   "metadata": {},
   "outputs": [
    {
     "name": "stdin",
     "output_type": "stream",
     "text": [
      "please enter number to print multiplication table 10\n"
     ]
    },
    {
     "name": "stdout",
     "output_type": "stream",
     "text": [
      "10 X 1 = 10\n",
      "10 X 2 = 20\n",
      "10 X 3 = 30\n",
      "10 X 4 = 40\n",
      "10 X 5 = 50\n",
      "10 X 6 = 60\n",
      "10 X 7 = 70\n",
      "10 X 8 = 80\n",
      "10 X 9 = 90\n",
      "10 X 10 = 100\n"
     ]
    }
   ],
   "source": [
    "num = int(input(\"please enter number to print multiplication table\"))\n",
    "end = 10\n",
    "\n",
    "\n",
    "for i in range(1,end+1):\n",
    "    product =num*i\n",
    "    \n",
    "    print(f\"{num} X {i} = {product}\")"
   ]
  },
  {
   "cell_type": "markdown",
   "id": "00e781e4-1165-4281-be56-c81139cb7e54",
   "metadata": {},
   "source": [
    "## 6. Write a program that counts the number of even and odd numbers in a list using a `for` loop."
   ]
  },
  {
   "cell_type": "code",
   "execution_count": 37,
   "id": "903cf4f2-3d30-4461-b574-37cc50d6606e",
   "metadata": {},
   "outputs": [
    {
     "name": "stdout",
     "output_type": "stream",
     "text": [
      "even count =  3\n",
      "odd count =  6\n"
     ]
    }
   ],
   "source": [
    "num = [1,2,3,6,7,8,89,97,75]\n",
    "evenCount =0\n",
    "oddCount = 0\n",
    "\n",
    "for i in num:\n",
    "    if i%2==0:\n",
    "        evenCount += 1\n",
    "    else:\n",
    "        oddCount += 1\n",
    "        \n",
    "print(\"even count = \", evenCount)\n",
    "print(\"odd count = \", oddCount)\n",
    "        "
   ]
  },
  {
   "cell_type": "markdown",
   "id": "8afc9ff3-d183-4e31-90d8-ddae8dc4dfd5",
   "metadata": {},
   "source": [
    "## 7. Develop a program that prints the squares of numbers from 1 to 5 using a `for` loop."
   ]
  },
  {
   "cell_type": "code",
   "execution_count": 38,
   "id": "1b317e31-17d5-45c5-a6e8-303513fd25a2",
   "metadata": {},
   "outputs": [
    {
     "name": "stdout",
     "output_type": "stream",
     "text": [
      "1 sqare of 1\n",
      "2 sqare of 4\n",
      "3 sqare of 9\n",
      "4 sqare of 16\n",
      "5 sqare of 25\n"
     ]
    }
   ],
   "source": [
    "num = 5\n",
    "for i in range(1,num+1):\n",
    "    squqre = i*i\n",
    "    print(f\"{i} sqare of {squqre}\")"
   ]
  },
  {
   "cell_type": "markdown",
   "id": "763d9d38-dc82-40e8-97bf-3bffa3f716c3",
   "metadata": {},
   "source": [
    "## 8. Create a program to find the length of a string without using the `len()` function."
   ]
  },
  {
   "cell_type": "code",
   "execution_count": 43,
   "id": "fc157cb7-7046-4037-a5be-6bc13b2f8517",
   "metadata": {},
   "outputs": [
    {
     "name": "stdout",
     "output_type": "stream",
     "text": [
      "10\n"
     ]
    }
   ],
   "source": [
    "inputStr = 'mohitSingh'\n",
    "\n",
    "len =0\n",
    "\n",
    "for char in inputStr:\n",
    "    len +=1 \n",
    "    \n",
    "print(len)"
   ]
  },
  {
   "cell_type": "markdown",
   "id": "21a0bd7a-043b-46b0-905a-e4acf30df9da",
   "metadata": {},
   "source": [
    "## 9. Write a program that calculates the average of a list of numbers using a `for` loop."
   ]
  },
  {
   "cell_type": "code",
   "execution_count": 65,
   "id": "b3a0499d-e92c-4539-8143-75defd70c358",
   "metadata": {},
   "outputs": [
    {
     "name": "stdout",
     "output_type": "stream",
     "text": [
      "Average 9.0\n"
     ]
    }
   ],
   "source": [
    "my_list = [5,5,5,10,20]\n",
    "\n",
    "total = 0\n",
    "count = 0\n",
    "\n",
    "for num in my_list:\n",
    "    total += num\n",
    "    count += 1\n",
    "    \n",
    "average = total/count\n",
    "\n",
    "print(\"Average\" ,average)"
   ]
  },
  {
   "cell_type": "markdown",
   "id": "afffb81f-30a4-4142-bf5c-abe3413002f2",
   "metadata": {},
   "source": [
    "## 10. Develop a program that prints the first `n` Fibonacci numbers using a `for` loop."
   ]
  },
  {
   "cell_type": "code",
   "execution_count": 66,
   "id": "9be28d0a-ebac-4b90-8502-ca5e5f890400",
   "metadata": {},
   "outputs": [
    {
     "name": "stdin",
     "output_type": "stream",
     "text": [
      "Enter the number of Fibonacci numbers you want to generate:  5\n"
     ]
    },
    {
     "name": "stdout",
     "output_type": "stream",
     "text": [
      "The first 5 Fibonacci numbers are:\n",
      "0 1 1 2 3 "
     ]
    }
   ],
   "source": [
    "\n",
    "n = int(input(\"Enter the number of Fibonacci numbers you want to generate: \"))\n",
    "\n",
    "\n",
    "fibonacci_sequence = [0, 1]\n",
    "\n",
    "\n",
    "if n <= 0:\n",
    "    print(\"Please enter a positive integer.\")\n",
    "elif n == 1:\n",
    "    print(\"The first Fibonacci number is:\", fibonacci_sequence[0])\n",
    "else:\n",
    "\n",
    "    for i in range(2, n):\n",
    "        next_fibonacci = fibonacci_sequence[-1] + fibonacci_sequence[-2]\n",
    "        fibonacci_sequence.append(next_fibonacci)\n",
    "\n",
    "\n",
    "    print(\"The first\", n, \"Fibonacci numbers are:\")\n",
    "    for num in fibonacci_sequence:\n",
    "        print(num, end=\" \")"
   ]
  },
  {
   "cell_type": "markdown",
   "id": "4c8e82bf-2f87-4142-9f43-08b531efe9a1",
   "metadata": {},
   "source": [
    "# Intermediate Level:"
   ]
  },
  {
   "cell_type": "markdown",
   "id": "54bc2778-8581-4bda-9d63-58befa501ad7",
   "metadata": {},
   "source": [
    "## 11. Write a program to check if a given list contains any duplicates using a `for` loop."
   ]
  },
  {
   "cell_type": "code",
   "execution_count": 17,
   "id": "96f57c8b-d8ba-4177-93a7-23c129b204e7",
   "metadata": {},
   "outputs": [
    {
     "name": "stdout",
     "output_type": "stream",
     "text": [
      "no duplicate element found\n"
     ]
    }
   ],
   "source": [
    "def listContailsDup(input_list):\n",
    "    length = len(input_list)\n",
    "    \n",
    "    for i in range(length):\n",
    "        for j in range(i+1,length):\n",
    "            if input_list[i] == input_list[j]:\n",
    "                return \"list contains duplicate element\"\n",
    "    return \"no duplicate element found\"\n",
    "\n",
    "input_list = [1,2,3,4,5,2]\n",
    "##input_list = [1,2,3,4,5,12]\n",
    "\n",
    "print(listContailsDup(input_list))"
   ]
  },
  {
   "cell_type": "markdown",
   "id": "72e4e94e-b230-49bd-9c7a-284fbef63aaf",
   "metadata": {},
   "source": [
    "## 12. Create a program that prints the prime numbers in a given range using a `for` loop."
   ]
  },
  {
   "cell_type": "code",
   "execution_count": 27,
   "id": "7ff32831-58f9-423e-8195-eb57dd88fe0d",
   "metadata": {},
   "outputs": [
    {
     "name": "stdout",
     "output_type": "stream",
     "text": [
      "numbere is prime\n"
     ]
    }
   ],
   "source": [
    "def is_prime(number):\n",
    "    if number<=1:\n",
    "        return False\n",
    "    for i in range(2,int(number**0.5)+1):\n",
    "        if number %i == 0:\n",
    "            return False\n",
    "    return True\n",
    "\n",
    "num = 17\n",
    "\n",
    "if is_prime(num):\n",
    "    print(\"numbere is prime\")\n",
    "else:\n",
    "    print(\"Not a prime \")\n",
    "        "
   ]
  },
  {
   "cell_type": "markdown",
   "id": "7ff20fe7-7d99-4f6f-aa80-5f5bf02bfa2d",
   "metadata": {},
   "source": [
    "## 13. Develop a program that counts the number of vowels in a string using a `for` loop."
   ]
  },
  {
   "cell_type": "code",
   "execution_count": 28,
   "id": "3fe3ce47-0bd1-4cc4-99f4-717144fd83d3",
   "metadata": {},
   "outputs": [
    {
     "name": "stdout",
     "output_type": "stream",
     "text": [
      "number of vowesls  3\n"
     ]
    }
   ],
   "source": [
    "def countVowels(inputString):\n",
    "    vowelsCOunt =0\n",
    "    vowels = set(\"AEIOUaeiou\")\n",
    "    \n",
    "    for ch in inputString:\n",
    "        if ch in vowels:\n",
    "            vowelsCOunt +=1\n",
    "    return vowelsCOunt\n",
    "\n",
    "inputString= \"Mohit Singh\"\n",
    "vowelsCount = countVowels(inputString) \n",
    "print(\"number of vowesls \",vowelsCount)\n",
    "    "
   ]
  },
  {
   "cell_type": "markdown",
   "id": "d1b33e13-d150-4d12-8b1d-de55a02ba1bf",
   "metadata": {},
   "source": [
    "## 15. Create a program that removes all occurrences of a specific element from a list using a `for` loop."
   ]
  },
  {
   "cell_type": "code",
   "execution_count": 29,
   "id": "28fcc80c-e207-46ce-a464-c7bfc4728c7e",
   "metadata": {},
   "outputs": [
    {
     "name": "stdout",
     "output_type": "stream",
     "text": [
      "[1, 3, 4, 5, 6]\n"
     ]
    }
   ],
   "source": [
    "def remove_element(lst,element_to_remove):\n",
    "    result = []\n",
    "    \n",
    "    for element in lst:\n",
    "        if element == element_to_remove:\n",
    "            pass\n",
    "        else:\n",
    "            result.append(element)\n",
    "    return result\n",
    "\n",
    "lst = [1,2,3,4,5,6,2]\n",
    "element_to_remove =2 \n",
    "\n",
    "print(remove_element(lst,element_to_remove))"
   ]
  },
  {
   "cell_type": "markdown",
   "id": "e4978fc1-f102-4506-9a8f-ed1e548c0a71",
   "metadata": {},
   "source": [
    "## 16. Develop a program that generates a multiplication table for numbers from 1 to 5 using a nested `for` loop."
   ]
  },
  {
   "cell_type": "code",
   "execution_count": 31,
   "id": "fd6ecd73-939b-4795-8b4d-12bf4c1c762d",
   "metadata": {},
   "outputs": [
    {
     "name": "stdout",
     "output_type": "stream",
     "text": [
      "Miltiplication table for 1\n",
      "1 X 1 = 1\n",
      "1 X 2 = 2\n",
      "1 X 3 = 3\n",
      "1 X 4 = 4\n",
      "1 X 5 = 5\n",
      "1 X 6 = 6\n",
      "1 X 7 = 7\n",
      "1 X 8 = 8\n",
      "1 X 9 = 9\n",
      "1 X 10 = 10\n",
      "\n",
      "Miltiplication table for 2\n",
      "2 X 1 = 2\n",
      "2 X 2 = 4\n",
      "2 X 3 = 6\n",
      "2 X 4 = 8\n",
      "2 X 5 = 10\n",
      "2 X 6 = 12\n",
      "2 X 7 = 14\n",
      "2 X 8 = 16\n",
      "2 X 9 = 18\n",
      "2 X 10 = 20\n",
      "\n",
      "Miltiplication table for 3\n",
      "3 X 1 = 3\n",
      "3 X 2 = 6\n",
      "3 X 3 = 9\n",
      "3 X 4 = 12\n",
      "3 X 5 = 15\n",
      "3 X 6 = 18\n",
      "3 X 7 = 21\n",
      "3 X 8 = 24\n",
      "3 X 9 = 27\n",
      "3 X 10 = 30\n",
      "\n",
      "Miltiplication table for 4\n",
      "4 X 1 = 4\n",
      "4 X 2 = 8\n",
      "4 X 3 = 12\n",
      "4 X 4 = 16\n",
      "4 X 5 = 20\n",
      "4 X 6 = 24\n",
      "4 X 7 = 28\n",
      "4 X 8 = 32\n",
      "4 X 9 = 36\n",
      "4 X 10 = 40\n",
      "\n",
      "Miltiplication table for 5\n",
      "5 X 1 = 5\n",
      "5 X 2 = 10\n",
      "5 X 3 = 15\n",
      "5 X 4 = 20\n",
      "5 X 5 = 25\n",
      "5 X 6 = 30\n",
      "5 X 7 = 35\n",
      "5 X 8 = 40\n",
      "5 X 9 = 45\n",
      "5 X 10 = 50\n",
      "\n"
     ]
    }
   ],
   "source": [
    "start = 1 \n",
    "end =5\n",
    "\n",
    "for i in range(start,end+1):\n",
    "    print(f\"Miltiplication table for {i}\")\n",
    "    for j in range(1,11):\n",
    "        result = i*j\n",
    "        print(f\"{i} X {j} = {result}\" )\n",
    "    \n",
    "    print()"
   ]
  },
  {
   "cell_type": "markdown",
   "id": "ba92366b-9c6f-47dc-b62a-93fe2f888dd6",
   "metadata": {},
   "source": [
    "## 17. Write a program that converts a list of Fahrenheit temperatures to Celsius using a `for` loop."
   ]
  },
  {
   "cell_type": "code",
   "execution_count": 32,
   "id": "3d90cf9a-ee6d-49fb-a68f-5aa2da811565",
   "metadata": {},
   "outputs": [
    {
     "name": "stdout",
     "output_type": "stream",
     "text": [
      "32 degrees Fahrenheit is equal to 0.00 degrees Celsius.\n",
      "68 degrees Fahrenheit is equal to 20.00 degrees Celsius.\n",
      "100 degrees Fahrenheit is equal to 37.78 degrees Celsius.\n",
      "212 degrees Fahrenheit is equal to 100.00 degrees Celsius.\n"
     ]
    }
   ],
   "source": [
    "def convert_to_celsius(fahrenheit_list):\n",
    "    celsius_list = []\n",
    "    for fahrenheit in fahrenheit_list:\n",
    "        celsius = (fahrenheit - 32) * 5/9\n",
    "        celsius_list.append(celsius)\n",
    "    return celsius_list\n",
    "\n",
    "fahrenheit_temperatures = [32, 68, 100, 212]\n",
    "celsius_temperatures = convert_to_celsius(fahrenheit_temperatures)\n",
    "\n",
    "for i in range(len(fahrenheit_temperatures)):\n",
    "    print(f\"{fahrenheit_temperatures[i]} degrees Fahrenheit is equal to {celsius_temperatures[i]:.2f} degrees Celsius.\")"
   ]
  },
  {
   "cell_type": "markdown",
   "id": "aa151ae9-a005-4645-a540-fb261a0cc5ca",
   "metadata": {},
   "source": [
    "## 18. Create a program to print the common elements from two lists using a `for` loop."
   ]
  },
  {
   "cell_type": "code",
   "execution_count": 35,
   "id": "521207d7-2f42-48fa-bcd1-5c3b621d4dcd",
   "metadata": {},
   "outputs": [
    {
     "name": "stdout",
     "output_type": "stream",
     "text": [
      "[3, 4, 5]\n"
     ]
    }
   ],
   "source": [
    "def find_common_elements(list1, list2):\n",
    "    common_elements = []\n",
    "\n",
    "    for item1 in list1:\n",
    "        for item2 in list2:\n",
    "            if item1 == item2:\n",
    "                common_elements.append(item1)\n",
    "\n",
    "    return common_elements\n",
    "\n",
    "# Example usage:\n",
    "list1 = [1, 2, 3, 4, 5]\n",
    "list2 = [3, 4, 5, 6, 7]\n",
    "\n",
    "print(find_common_elements(list1,list2))"
   ]
  },
  {
   "cell_type": "code",
   "execution_count": 36,
   "id": "4c22fcdb-a3d4-4162-bc0f-91c2ae5fb043",
   "metadata": {},
   "outputs": [],
   "source": [
    "## 20. Write a program to find the greatest common divisor (GCD) of two numbers using a `for` loop."
   ]
  },
  {
   "cell_type": "code",
   "execution_count": 38,
   "id": "385be8ca-2f1d-48e4-962e-fba2204e9b76",
   "metadata": {},
   "outputs": [
    {
     "name": "stdout",
     "output_type": "stream",
     "text": [
      "The GCD of 48 and 18 is 6.\n"
     ]
    }
   ],
   "source": [
    "def find_gcd(num1, num2):\n",
    "    while num2:\n",
    "        num1, num2 = num2, num1 % num2\n",
    "    return num1\n",
    "\n",
    "num1 = 48\n",
    "num2 = 18\n",
    "\n",
    "gcd = find_gcd(num1, num2)\n",
    "print(f\"The GCD of {num1} and {num2} is {gcd}.\")"
   ]
  },
  {
   "cell_type": "markdown",
   "id": "bd214a6b-c49e-4914-832f-cd7f756f6120",
   "metadata": {},
   "source": [
    "# Advanced Level:"
   ]
  },
  {
   "cell_type": "markdown",
   "id": "f790d18f-9a80-4ade-b2ba-0a4130e86e90",
   "metadata": {},
   "source": [
    "## 21. Create a program that calculates the sum of the digits of numbers in a list using a list comprehension."
   ]
  },
  {
   "cell_type": "code",
   "execution_count": 47,
   "id": "ea11cc37-b888-44e7-9d1f-e8c5331689d3",
   "metadata": {},
   "outputs": [
    {
     "name": "stdout",
     "output_type": "stream",
     "text": [
      "The sum of the digits of 123 is 6.\n",
      "The sum of the digits of 456 is 15.\n",
      "The sum of the digits of 789 is 24.\n"
     ]
    }
   ],
   "source": [
    "def sum_of_digit(number):\n",
    "    number_str =str(number)\n",
    "    \n",
    "    digit = [int(digit) for digit in number_str]\n",
    "    return sum(digit)\n",
    "\n",
    "number = [123,456,789]\n",
    "\n",
    "digit_sum = [sum_of_digit(num) for num in number]\n",
    "\n",
    "\n",
    "for i in range(len(number)):\n",
    "    print(f\"The sum of the digits of {number[i]} is {digit_sum[i]}.\")\n",
    "    "
   ]
  },
  {
   "cell_type": "markdown",
   "id": "b01115be-310f-4f31-86c3-88acd942691e",
   "metadata": {},
   "source": [
    "## 22. Write a program to find the prime factors of a given number using a `for` loop and list comprehension."
   ]
  },
  {
   "cell_type": "code",
   "execution_count": 48,
   "id": "c81bc5e0-e210-4d62-a97e-1597dfe5d9ee",
   "metadata": {},
   "outputs": [
    {
     "name": "stdout",
     "output_type": "stream",
     "text": [
      "The prime factors of 60 are: [2, 2, 3, 5]\n"
     ]
    }
   ],
   "source": [
    "def prime_factors(number):\n",
    "    factors = []\n",
    "    divisor = 2\n",
    "    \n",
    "    while number > 1:\n",
    "        while number % divisor == 0:\n",
    "            factors.append(divisor)\n",
    "            number //= divisor\n",
    "        divisor += 1\n",
    "        \n",
    "    return factors\n",
    "\n",
    "# Example usage:\n",
    "num = 60\n",
    "\n",
    "factors = prime_factors(num)\n",
    "\n",
    "print(f\"The prime factors of {num} are: {factors}\")"
   ]
  },
  {
   "cell_type": "code",
   "execution_count": 49,
   "id": "15f50a26-d015-4176-840e-fffab38c33c1",
   "metadata": {},
   "outputs": [],
   "source": [
    "## 23. Develop a program that extracts unique elements from a list and stores them in a new list using a listcomprehension."
   ]
  },
  {
   "cell_type": "code",
   "execution_count": 50,
   "id": "61780bbb-ab65-49a8-a00d-5282704b384f",
   "metadata": {},
   "outputs": [
    {
     "name": "stdout",
     "output_type": "stream",
     "text": [
      "Original List: [1, 2, 2, 3, 4, 4, 5, 6, 6]\n",
      "Unique List: [1, 3, 5]\n"
     ]
    }
   ],
   "source": [
    "\n",
    "original_list = [1, 2, 2, 3, 4, 4, 5, 6, 6]\n",
    "\n",
    "unique_list = [x for x in original_list if original_list.count(x) == 1]\n",
    "\n",
    "# Print the unique elements\n",
    "print(\"Original List:\", original_list)\n",
    "print(\"Unique List:\", unique_list)"
   ]
  },
  {
   "cell_type": "code",
   "execution_count": 51,
   "id": "3164a701-decf-4e5a-82ba-b8bedfdffed4",
   "metadata": {},
   "outputs": [],
   "source": [
    "## 24. Create a program that generates a list of all palindromic numbers up to a specified limit using a listcomprehension."
   ]
  },
  {
   "cell_type": "code",
   "execution_count": 52,
   "id": "bd6249b2-4479-4ea7-a330-5431f4d48614",
   "metadata": {},
   "outputs": [
    {
     "name": "stdout",
     "output_type": "stream",
     "text": [
      "Palindromic Numbers up to 1000 :\n",
      "[1, 2, 3, 4, 5, 6, 7, 8, 9, 11, 22, 33, 44, 55, 66, 77, 88, 99, 101, 111, 121, 131, 141, 151, 161, 171, 181, 191, 202, 212, 222, 232, 242, 252, 262, 272, 282, 292, 303, 313, 323, 333, 343, 353, 363, 373, 383, 393, 404, 414, 424, 434, 444, 454, 464, 474, 484, 494, 505, 515, 525, 535, 545, 555, 565, 575, 585, 595, 606, 616, 626, 636, 646, 656, 666, 676, 686, 696, 707, 717, 727, 737, 747, 757, 767, 777, 787, 797, 808, 818, 828, 838, 848, 858, 868, 878, 888, 898, 909, 919, 929, 939, 949, 959, 969, 979, 989, 999]\n"
     ]
    }
   ],
   "source": [
    "\n",
    "def is_palindrome(number):\n",
    "    return str(number) == str(number)[::-1]\n",
    "\n",
    "limit = 1000  \n",
    "palindromic_numbers = [num for num in range(1, limit + 1) if is_palindrome(num)]\n",
    "\n",
    "# Print the list of palindromic numbers\n",
    "print(\"Palindromic Numbers up to\", limit, \":\")\n",
    "print(palindromic_numbers)"
   ]
  },
  {
   "cell_type": "code",
   "execution_count": 53,
   "id": "78c61b40-412b-4b80-adf3-12b2937ea28f",
   "metadata": {},
   "outputs": [],
   "source": [
    "## 25. Write a program to flatten a nested list using list comprehension."
   ]
  },
  {
   "cell_type": "code",
   "execution_count": 54,
   "id": "699f08ea-9c6c-4e66-ad2b-8c1f250c7eb5",
   "metadata": {},
   "outputs": [
    {
     "name": "stdout",
     "output_type": "stream",
     "text": [
      "Original Nested List:\n",
      "[1, [2, 3, [4, 5]], 6, [7, 8]]\n",
      "Flattened List:\n",
      "[1, 2, 3, 4, 5, 6, 7, 8]\n"
     ]
    }
   ],
   "source": [
    "\n",
    "def flatten_list(nested_list):\n",
    "    flattened = []\n",
    "    for item in nested_list:\n",
    "        if isinstance(item, list):\n",
    "            flattened.extend(flatten_list(item))\n",
    "        else:\n",
    "            flattened.append(item)\n",
    "    return flattened\n",
    "\n",
    "nested_list = [1, [2, 3, [4, 5]], 6, [7, 8]]\n",
    "\n",
    "# Flatten the nested list using list comprehension\n",
    "flattened_list = [item for sublist in nested_list for item in flatten_list([sublist])]\n",
    "\n",
    "# Print the flattened list\n",
    "print(\"Original Nested List:\")\n",
    "print(nested_list)\n",
    "print(\"Flattened List:\")\n",
    "print(flattened_list)"
   ]
  },
  {
   "cell_type": "markdown",
   "id": "787d01de-48c5-468c-9b93-9e7c6f217ddf",
   "metadata": {},
   "source": [
    "## Challenge Level:"
   ]
  },
  {
   "cell_type": "code",
   "execution_count": 1,
   "id": "a26daa4d-7d3b-472e-83b5-1e6621c5ba20",
   "metadata": {},
   "outputs": [],
   "source": [
    "## 31. Write a program to generate a list of prime numbers using the Sieve of Eratosthenes algorithm and listcomprehension."
   ]
  },
  {
   "cell_type": "code",
   "execution_count": null,
   "id": "b96bb85a-2a75-49ca-a16b-4af0a2929bc9",
   "metadata": {},
   "outputs": [],
   "source": [
    "## 32. Create a program that generates a list of all Pythagorean triplets up to a specified limit using list comprehension."
   ]
  },
  {
   "cell_type": "code",
   "execution_count": null,
   "id": "4ff14e6c-d9d2-4390-8fdc-b1ede0a4fb80",
   "metadata": {},
   "outputs": [],
   "source": [
    "## 33. Develop a program that generates a list of all possible combinations of two lists using list comprehension."
   ]
  },
  {
   "cell_type": "code",
   "execution_count": 2,
   "id": "30152d08-a844-48db-bb7f-1e23ed54f223",
   "metadata": {},
   "outputs": [
    {
     "name": "stdout",
     "output_type": "stream",
     "text": [
      "[(1, 'a'), (1, 'b'), (1, 'c'), (1, 'd'), (2, 'a'), (2, 'b'), (2, 'c'), (2, 'd'), (3, 'a'), (3, 'b'), (3, 'c'), (3, 'd'), (4, 'a'), (4, 'b'), (4, 'c'), (4, 'd')]\n"
     ]
    }
   ],
   "source": [
    "lst1 = [1,2,3,4]\n",
    "lst2 = ['a','b','c','d']\n",
    "\n",
    "comb_lst = [(x,y) for x in lst1 for y in lst2]\n",
    "print(comb_lst)\n"
   ]
  },
  {
   "cell_type": "code",
   "execution_count": 3,
   "id": "a6d2d14d-c285-4829-a815-ddec94f08632",
   "metadata": {},
   "outputs": [],
   "source": [
    "## 34. Write a program that calculates the mean, median, and mode of a list of numbers using list comprehension."
   ]
  },
  {
   "cell_type": "code",
   "execution_count": 4,
   "id": "2c2ca194-0804-4b14-ab03-e8823bb4cf2e",
   "metadata": {},
   "outputs": [
    {
     "name": "stdin",
     "output_type": "stream",
     "text": [
      "Enter a list of numbers separated by spaces:   23 4 5 6 7 8 9 0 \n"
     ]
    },
    {
     "name": "stdout",
     "output_type": "stream",
     "text": [
      "Mean: 7.75\n",
      "Median: 6.5\n",
      "Mode: [23.0, 4.0, 5.0, 6.0, 7.0, 8.0, 9.0, 0.0]\n"
     ]
    }
   ],
   "source": [
    "numbers = [float(x) for x in input(\"Enter a list of numbers separated by spaces: \").split()]\n",
    "\n",
    "# Calculate the mean\n",
    "mean = sum(numbers) / len(numbers)\n",
    "\n",
    "# Calculate the median\n",
    "sorted_numbers = sorted(numbers)\n",
    "n = len(sorted_numbers)\n",
    "if n % 2 == 0:\n",
    "    median = (sorted_numbers[n // 2 - 1] + sorted_numbers[n // 2]) / 2\n",
    "else:\n",
    "    median = sorted_numbers[n // 2]\n",
    "\n",
    "# Calculate the mode\n",
    "number_counts = {}\n",
    "for number in numbers:\n",
    "    if number in number_counts:\n",
    "        number_counts[number] += 1\n",
    "    else:\n",
    "        number_counts[number] = 1\n",
    "\n",
    "max_count = max(number_counts.values())\n",
    "mode = [number for number, count in number_counts.items() if count == max_count]\n",
    "\n",
    "# Display the results\n",
    "print(\"Mean:\", mean)\n",
    "print(\"Median:\", median)\n",
    "print(\"Mode:\", mode)"
   ]
  },
  {
   "cell_type": "code",
   "execution_count": 6,
   "id": "44db8d8f-a5be-45d1-8168-4f5e375ca8b6",
   "metadata": {},
   "outputs": [
    {
     "name": "stdin",
     "output_type": "stream",
     "text": [
      "Enter the number of rows for Pascal's triangle:  4\n"
     ]
    },
    {
     "name": "stdout",
     "output_type": "stream",
     "text": [
      "     1      \n",
      "    1 1     \n",
      "   1 2 1    \n",
      "  1 3 3 1   \n"
     ]
    }
   ],
   "source": [
    "def generate_pascals_triangle(rows):\n",
    "    if rows <= 0:\n",
    "        return []\n",
    "    \n",
    "    triangle = [[1]]\n",
    "    \n",
    "    for _ in range(rows - 1):\n",
    "        last_row = triangle[-1]\n",
    "        new_row = [1] + [last_row[i] + last_row[i + 1] for i in range(len(last_row) - 1)] + [1]\n",
    "        triangle.append(new_row)\n",
    "    \n",
    "    return triangle\n",
    "\n",
    "# Input the number of rows for Pascal's triangle\n",
    "rows = int(input(\"Enter the number of rows for Pascal's triangle: \"))\n",
    "\n",
    "# Generate Pascal's triangle\n",
    "pascals_triangle = generate_pascals_triangle(rows)\n",
    "\n",
    "# Display Pascal's triangle\n",
    "for row in pascals_triangle:\n",
    "    print(' '.join(map(str, row)).center(rows * 3))\n"
   ]
  },
  {
   "cell_type": "code",
   "execution_count": 7,
   "id": "205605a3-f523-4478-a173-b715300dfbaa",
   "metadata": {},
   "outputs": [],
   "source": [
    "## 36. Develop a program that calculates the sum of the digits of a factorial of numbers from 1 to 5 using list comprehension."
   ]
  },
  {
   "cell_type": "code",
   "execution_count": null,
   "id": "9cbead4e-9dc2-44e7-a11a-77cc81b901f8",
   "metadata": {},
   "outputs": [],
   "source": []
  },
  {
   "cell_type": "code",
   "execution_count": 13,
   "id": "36833b9e-c94d-4c24-aea8-652b84f8abe5",
   "metadata": {},
   "outputs": [],
   "source": [
    "## 37. Write a program that finds the longest word in a sentence using list comprehension."
   ]
  },
  {
   "cell_type": "code",
   "execution_count": 14,
   "id": "41cbe6dc-ec3c-4def-9fbe-6d2aa3411006",
   "metadata": {},
   "outputs": [
    {
     "name": "stdin",
     "output_type": "stream",
     "text": [
      "Enter a sentence:  my name is mohitSingh\n"
     ]
    },
    {
     "name": "stdout",
     "output_type": "stream",
     "text": [
      "mohitSingh\n"
     ]
    }
   ],
   "source": [
    "longest_sentence = input(\"Enter a sentence: \")\n",
    "\n",
    "words = longest_sentence.split()\n",
    "\n",
    "longest_word = max(words, key=lambda word:len(word))\n",
    "print(longest_word)"
   ]
  },
  {
   "cell_type": "code",
   "execution_count": 15,
   "id": "6a413d38-45de-4853-a169-4721aedd5cd2",
   "metadata": {},
   "outputs": [],
   "source": [
    "## 38. Create a program that filters a list of strings to include only those with more than three vowels using list comprehension."
   ]
  },
  {
   "cell_type": "code",
   "execution_count": 19,
   "id": "874e57eb-d956-4780-8517-c462bb441688",
   "metadata": {},
   "outputs": [
    {
     "name": "stdin",
     "output_type": "stream",
     "text": [
      "Enter a list of string seperated by a spaces  Create a program that filters a list of strings to include only those with more than three vowels using list comprehension.\n"
     ]
    },
    {
     "name": "stdout",
     "output_type": "stream",
     "text": [
      "Strings with more than three vowels: ['comprehension.']\n",
      "['Create', 'a', 'program', 'that', 'filters', 'a', 'list', 'of', 'strings', 'to', 'include', 'only', 'those', 'with', 'more', 'than', 'three', 'vowels', 'using', 'list', 'comprehension.']\n"
     ]
    }
   ],
   "source": [
    "def count_vowels(word):\n",
    "    vowels = 'AEIOUaeiou'\n",
    "    return sum(1 for char in word if char in vowels)\n",
    "\n",
    "string_list = input(\"Enter a list of string seperated by a spaces\").split()\n",
    "\n",
    "filtered_string = [word for word in string_list if count_vowels(word)>3]\n",
    "\n",
    "print(\"Strings with more than three vowels:\", filtered_string)\n",
    "\n",
    "print(string_list)\n"
   ]
  },
  {
   "cell_type": "code",
   "execution_count": 21,
   "id": "a5f571d5-f81f-4842-a316-2ac5e1501010",
   "metadata": {},
   "outputs": [],
   "source": [
    "## 39. Develop a program that calculates the sum of the digits of numbers from 1 to 1000 using list comprehension."
   ]
  },
  {
   "cell_type": "code",
   "execution_count": null,
   "id": "636d12b5-e397-494e-b02e-d553ab0f5296",
   "metadata": {},
   "outputs": [],
   "source": [
    "sum_of_digits = sum(sum(digit) for digit in str())"
   ]
  }
 ],
 "metadata": {
  "kernelspec": {
   "display_name": "Python 3 (ipykernel)",
   "language": "python",
   "name": "python3"
  },
  "language_info": {
   "codemirror_mode": {
    "name": "ipython",
    "version": 3
   },
   "file_extension": ".py",
   "mimetype": "text/x-python",
   "name": "python",
   "nbconvert_exporter": "python",
   "pygments_lexer": "ipython3",
   "version": "3.10.8"
  }
 },
 "nbformat": 4,
 "nbformat_minor": 5
}
