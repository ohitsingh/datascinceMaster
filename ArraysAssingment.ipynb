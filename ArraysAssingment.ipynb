{
 "cells": [
  {
   "cell_type": "markdown",
   "id": "7ad898d0-aa18-40df-a7c5-054b107b7667",
   "metadata": {},
   "source": [
    "# 1. Given an array, check if it contains any duplicates or not.\n",
    "arr = [1, 2, 4, 2, 5, 9]\n",
    "Output = True"
   ]
  },
  {
   "cell_type": "code",
   "execution_count": 3,
   "id": "f1b87d84-1e87-4212-8cce-3feb2dc4055f",
   "metadata": {},
   "outputs": [],
   "source": [
    "def checkDuplicate(arr):\n",
    "    seen = set()\n",
    "    for num in arr:\n",
    "        if num in seen:\n",
    "            return True\n",
    "        seen.add(num)\n",
    "    return False"
   ]
  },
  {
   "cell_type": "code",
   "execution_count": 35,
   "id": "95e7d580-5cfd-4bff-a262-0c6271ed4f73",
   "metadata": {},
   "outputs": [
    {
     "data": {
      "text/plain": [
       "True"
      ]
     },
     "execution_count": 35,
     "metadata": {},
     "output_type": "execute_result"
    }
   ],
   "source": [
    "checkDuplicate([1,2,3,4,5,2])"
   ]
  },
  {
   "cell_type": "markdown",
   "id": "ab646e56-cbaa-4493-9731-ea1a145e982c",
   "metadata": {},
   "source": [
    "# 2. Given an array and an integer k, rotate the array to the right by k steps.\n",
    "arr = [1, 2, 3, 4, 5, 6, 7] k = 3\n",
    "Output = [5, 6, 7, 1, 2, 3, 4]"
   ]
  },
  {
   "cell_type": "code",
   "execution_count": 33,
   "id": "1c54f069-0de8-4f55-8e59-32dffe6a008b",
   "metadata": {},
   "outputs": [
    {
     "name": "stdout",
     "output_type": "stream",
     "text": [
      "[5, 6, 7, 1, 2, 3, 4]\n"
     ]
    }
   ],
   "source": [
    "arr = [1, 2, 3, 4, 5, 6, 7]\n",
    "k=3\n",
    "arr1 = arr[-k:]\n",
    "arr2 = arr[:-k]\n",
    "#print(arr1)\n",
    "#print(arr2)\n",
    "arr3 = arr1+arr2\n",
    "print(arr3)\n"
   ]
  },
  {
   "cell_type": "markdown",
   "id": "df5aa8bd-39fb-4ca2-b2c6-6a81bb2b0ef7",
   "metadata": {},
   "source": [
    "# 3. Reverse the given array in-place, means without using any extra data structure.\n",
    "arr = [2, 4, 5, 7, 9, 12]\n",
    "Output = [12, 9, 7, 5, 4, 2]"
   ]
  },
  {
   "cell_type": "code",
   "execution_count": 2,
   "id": "f78963eb-434c-470d-ad1e-355339897054",
   "metadata": {},
   "outputs": [
    {
     "data": {
      "text/plain": [
       "[12, 9, 7, 5, 4, 2]"
      ]
     },
     "execution_count": 2,
     "metadata": {},
     "output_type": "execute_result"
    }
   ],
   "source": [
    "arr = [2, 4, 5, 7, 9, 12]\n",
    "arr1=arr[::-1]\n",
    "arr1"
   ]
  },
  {
   "cell_type": "markdown",
   "id": "a9a65619-a40a-42e1-aafb-e1ab09b2b365",
   "metadata": {},
   "source": [
    "# 4 Given an array of integers, find the maximum element in an array\n",
    "arr = [10, 5, 20, 8, 15]\n",
    "Output = 20"
   ]
  },
  {
   "cell_type": "code",
   "execution_count": 5,
   "id": "b406e981-2c49-45e2-ad75-418aa4569236",
   "metadata": {},
   "outputs": [
    {
     "data": {
      "text/plain": [
       "20"
      ]
     },
     "execution_count": 5,
     "metadata": {},
     "output_type": "execute_result"
    }
   ],
   "source": [
    "arr = [10, 5, 20, 8, 15]\n",
    "max(arr)"
   ]
  },
  {
   "cell_type": "markdown",
   "id": "b7220f69-95cb-4f28-8b08-261e53a0dd9d",
   "metadata": {},
   "source": [
    "# 5. Given a sorted array, remove the duplicate element without using any extra data structure.\n",
    "arr = [1, 1, 2, 2, 2, 3, 3, 4, 4, 4, 5, 5]\n",
    "Output = [1, 2, 3, 4, 5]"
   ]
  },
  {
   "cell_type": "code",
   "execution_count": 7,
   "id": "82d0bc2c-abcb-4c6a-b1b4-4cf0dc64ea86",
   "metadata": {},
   "outputs": [
    {
     "data": {
      "text/plain": [
       "5"
      ]
     },
     "execution_count": 7,
     "metadata": {},
     "output_type": "execute_result"
    }
   ],
   "source": [
    "arr = [1, 1, 2, 2, 2, 3, 3, 4, 4, 4, 5, 5] \n",
    "set1= set(arr)\n",
    "set1\n",
    "arr[-1]"
   ]
  },
  {
   "cell_type": "code",
   "execution_count": 35,
   "id": "6e9ae14b-0627-446f-b5af-01c095882d34",
   "metadata": {},
   "outputs": [],
   "source": [
    "def removeDuplicateArray(arr):\n",
    "    if len(arr) == 0:\n",
    "        return []\n",
    "    \n",
    "    uniqueINdex = 0\n",
    "    \n",
    "    for i in range (1,len(arr)):\n",
    "        if arr[i] != arr[i-1]:\n",
    "            uniqueINdex += 1\n",
    "            arr[uniqueINdex] = arr[i]\n",
    "        \n",
    "    return arr[:uniqueINdex+1]\n",
    "    "
   ]
  },
  {
   "cell_type": "code",
   "execution_count": 36,
   "id": "0823ba4b-becb-483e-a1be-b9c58de87901",
   "metadata": {},
   "outputs": [
    {
     "name": "stdout",
     "output_type": "stream",
     "text": [
      "[1, 2, 3, 4, 5]\n"
     ]
    }
   ],
   "source": [
    "print(removeDuplicateArray([1, 1, 2, 2, 2, 3, 3, 4, 4, 4, 5, 5] ))"
   ]
  },
  {
   "cell_type": "code",
   "execution_count": null,
   "id": "ce74847e-b48d-427b-a73e-f8cda8d13221",
   "metadata": {},
   "outputs": [],
   "source": []
  }
 ],
 "metadata": {
  "kernelspec": {
   "display_name": "Python 3 (ipykernel)",
   "language": "python",
   "name": "python3"
  },
  "language_info": {
   "codemirror_mode": {
    "name": "ipython",
    "version": 3
   },
   "file_extension": ".py",
   "mimetype": "text/x-python",
   "name": "python",
   "nbconvert_exporter": "python",
   "pygments_lexer": "ipython3",
   "version": "3.10.8"
  }
 },
 "nbformat": 4,
 "nbformat_minor": 5
}
