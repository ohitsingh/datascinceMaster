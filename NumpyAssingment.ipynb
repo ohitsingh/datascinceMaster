{
 "cells": [
  {
   "cell_type": "markdown",
   "id": "e74894f6-ad71-4551-952c-e44e699fa513",
   "metadata": {},
   "source": [
    "# 1. What is a Python library? Why ^o we use Python libraries?"
   ]
  },
  {
   "cell_type": "markdown",
   "id": "f829b9dc-f410-4f05-ad04-4834cc161e58",
   "metadata": {},
   "source": [
    "Python library is a prewritten collection of modules or packages. that we can directly use in a programe just by importing.\n",
    "we use python library for code Reusability,Efficiency,Rapid Development etc"
   ]
  },
  {
   "cell_type": "markdown",
   "id": "30fa51a9-6388-4cd2-8e9a-3e521bb6afc4",
   "metadata": {},
   "source": [
    "## 2. What is the difference between Numpy array and List?"
   ]
  },
  {
   "cell_type": "markdown",
   "id": "1725fb8c-d410-46d6-a8c5-6299f786adf2",
   "metadata": {},
   "source": [
    "NumPy arrays and Python lists are both used to store collections of data, but they have several key differences in terms of functionality, performance, and usage. Here are some of the main distinctions:\n",
    "\n",
    "Data Type:\n",
    "\n",
    "List: A Python list can contain elements of different data types. It can hold integers, floats, strings, and even other lists.\n",
    "NumPy Array: NumPy arrays are homogeneous, meaning all elements in the array must be of the same data type. This homogeneity allows for more efficient storage and operations.\n",
    "Performance:\n",
    "\n",
    "List: Lists are generally slower than NumPy arrays when it comes to mathematical operations and other array-related computations.\n",
    "NumPy Array: NumPy arrays are optimized for numerical operations and are much faster than lists for such tasks. NumPy is implemented in C and Fortran, which contributes to its performance.\n",
    "Memory Efficiency:\n",
    "\n",
    "List: Lists consume more memory as they store additional information (type information for each element) and are less space-efficient.\n",
    "NumPy Array: NumPy arrays are more memory-efficient because they are homogeneous and use contiguous blocks of memory.\n",
    "Ease of Use:\n",
    "\n",
    "List: Lists are more flexible and easier to work with for general-purpose tasks due to their dynamic nature and versatility.\n",
    "NumPy Array: NumPy arrays are specialized for numerical operations, and their syntax is often more concise and expressive for mathematical computations.\n",
    "Functionality:\n",
    "\n",
    "List: Lists offer a broad range of methods and functionalities, but they may not be as efficient as NumPy for numerical computations.\n",
    "NumPy Array: NumPy provides a variety of mathematical functions and operations that are optimized for array processing. It includes functionality similar to MATLAB for scientific computing.\n",
    "Broadcasting:\n",
    "\n",
    "List: Lists don't support broadcasting, which allows operations on arrays of different shapes and sizes without the need for explicit loops.\n",
    "NumPy Array: NumPy arrays support broadcasting, making it easier to perform operations on arrays of different shapes.\n",
    "In summary, while lists are versatile and suitable for general-purpose tasks, NumPy arrays are designed for efficient numerical computations and offer advantages in terms of performance and memory efficiency. The choice between them depends on the specific requirements of the task at hand.\n",
    "\n",
    "\n",
    "\n",
    "\n",
    "\n",
    "\n"
   ]
  },
  {
   "cell_type": "markdown",
   "id": "dabd17a5-5731-48e5-984d-35adaaefc98c",
   "metadata": {},
   "source": [
    "## 3. Find the shape, size and dimension of the following array?\n",
    "[[1, 2, 3, 4]\n",
    "[5, 6, 7, 8],\n",
    "[9, 10, 11, 12]]"
   ]
  },
  {
   "cell_type": "code",
   "execution_count": 4,
   "id": "5353bfb4-0407-4dd3-98a4-9f96a2245387",
   "metadata": {},
   "outputs": [],
   "source": [
    "import numpy as np\n",
    "arr = np.array([[1, 2, 3, 4], [5, 6, 7, 8], [9, 10, 11, 12]])"
   ]
  },
  {
   "cell_type": "code",
   "execution_count": 9,
   "id": "71d5fd27-3c30-4132-a113-1d5e93669eb8",
   "metadata": {},
   "outputs": [],
   "source": [
    "shape=arr.shape\n",
    "size = arr.size\n",
    "dimention = arr.ndim"
   ]
  },
  {
   "cell_type": "code",
   "execution_count": 10,
   "id": "5fa59194-8072-4380-be62-e0edb897a218",
   "metadata": {},
   "outputs": [
    {
     "name": "stdout",
     "output_type": "stream",
     "text": [
      "12\n",
      "(3, 4)\n",
      "2\n"
     ]
    }
   ],
   "source": [
    "print(size)\n",
    "print(shape)\n",
    "print(dimention)"
   ]
  },
  {
   "cell_type": "markdown",
   "id": "a6308629-0030-445a-ab54-4d04f61e6c83",
   "metadata": {},
   "source": [
    "# 4. Write python code to access the first row of the following array?\n",
    "[[1, 2, 3, 4]\n",
    "[5, 6, 7, 8],\n",
    "[9, 10, 11, 12]]"
   ]
  },
  {
   "cell_type": "code",
   "execution_count": 11,
   "id": "b4616a7a-0579-4c43-b98e-8b53e9d5cdfe",
   "metadata": {},
   "outputs": [],
   "source": [
    "arr1 = np.array([[1, 2, 3, 4], [5, 6, 7, 8], [9, 10, 11, 12]])"
   ]
  },
  {
   "cell_type": "code",
   "execution_count": 14,
   "id": "74834161-08c3-4378-8db7-cfa138aa76d6",
   "metadata": {},
   "outputs": [
    {
     "data": {
      "text/plain": [
       "array([1, 2, 3, 4])"
      ]
     },
     "execution_count": 14,
     "metadata": {},
     "output_type": "execute_result"
    }
   ],
   "source": [
    "fristRow = arr1[0,:]\n",
    "fristRow"
   ]
  },
  {
   "cell_type": "markdown",
   "id": "dad65a42-13cb-4778-9b7d-b59cea18f901",
   "metadata": {},
   "source": [
    "# 5. How do you access the element at the third row and fourth column from the given numpy array?\n",
    "[[1, 2, 3, 4]\n",
    "[5, 6, 7, 8],\n",
    "[9, 10, 11, 12]]"
   ]
  },
  {
   "cell_type": "code",
   "execution_count": 17,
   "id": "7e7cfd88-8a2b-4f06-bff6-3823cb74ba10",
   "metadata": {},
   "outputs": [],
   "source": [
    "arr1 = np.array([[1, 2, 3, 4], [5, 6, 7, 8], [9, 10, 11, 12]])\n",
    "\n",
    "element=arr1[2,3]"
   ]
  },
  {
   "cell_type": "code",
   "execution_count": 18,
   "id": "e1673188-3f43-4b10-966a-92db9498ed9e",
   "metadata": {},
   "outputs": [
    {
     "data": {
      "text/plain": [
       "12"
      ]
     },
     "execution_count": 18,
     "metadata": {},
     "output_type": "execute_result"
    }
   ],
   "source": [
    "element"
   ]
  },
  {
   "cell_type": "markdown",
   "id": "545405be-a8ad-4763-8705-17283934bd30",
   "metadata": {},
   "source": [
    "## 6. Write code to extract all odd-indexed elements from the given numpy array?\n",
    "[[1, 2, 3, 4]\n",
    "[5, 6, 7, 8],\n",
    "[9, 10, 11, 12]]"
   ]
  },
  {
   "cell_type": "code",
   "execution_count": 25,
   "id": "e12f809b-f22f-445f-b873-36bb3749982d",
   "metadata": {},
   "outputs": [],
   "source": [
    "arr1 = np.array([[1, 2, 3, 4,11,12], [5, 6, 7, 8,12,34], [9, 10, 11, 12,15,45]])\n",
    "\n",
    "odd_indexed_elements = arr1[:,1::2]"
   ]
  },
  {
   "cell_type": "code",
   "execution_count": 26,
   "id": "ee28d083-9309-4d9d-98a0-4e54b34f8c58",
   "metadata": {},
   "outputs": [
    {
     "data": {
      "text/plain": [
       "array([[ 2,  4, 12],\n",
       "       [ 6,  8, 34],\n",
       "       [10, 12, 45]])"
      ]
     },
     "execution_count": 26,
     "metadata": {},
     "output_type": "execute_result"
    }
   ],
   "source": [
    "odd_indexed_elements\n"
   ]
  },
  {
   "cell_type": "markdown",
   "id": "f74a0f3b-3b4a-4a3f-be1f-903d110e310e",
   "metadata": {},
   "source": [
    "# 7. How can you generate a random 3x3 matrix with values between 0 and 1?"
   ]
  },
  {
   "cell_type": "code",
   "execution_count": 28,
   "id": "44da1f9d-3d92-4306-8842-442ba70140ce",
   "metadata": {},
   "outputs": [
    {
     "name": "stdout",
     "output_type": "stream",
     "text": [
      "[[0.04439948 0.85673185 0.27298257]\n",
      " [0.79558227 0.18975544 0.81822323]\n",
      " [0.81158306 0.23798841 0.74817567]]\n"
     ]
    }
   ],
   "source": [
    "random_matrix = np.random.rand(3,3)\n",
    "print(random_matrix)"
   ]
  },
  {
   "cell_type": "markdown",
   "id": "c0647983-9e2b-4a99-8cf8-f5df8abe2a9b",
   "metadata": {},
   "source": [
    "# 8. Describe the difference between np.random.rand and np.random.randn?"
   ]
  },
  {
   "cell_type": "markdown",
   "id": "c8543e67-cfe6-4660-8b7b-725122a6f191",
   "metadata": {},
   "source": [
    "np.random.rand: Generates random values from a uniform distribution between 0 (inclusive) and 1 (exclusive). All values are equally likely.\n",
    "\n",
    "np.random.randn: Generates random values from a standard normal distribution (mean 0, standard deviation 1). Values are more likely to be close to 0, and the distribution follows a bell curve."
   ]
  },
  {
   "cell_type": "markdown",
   "id": "bb6c2420-b4f4-4858-8e53-1ae59f9f1a1e",
   "metadata": {},
   "source": [
    "# 9. Write code to increase the dimension of the following array?\n",
    "[[1, 2, 3, 4]\n",
    "[5, 6, 7, 8],\n",
    "[9, 10, 11, 12]]"
   ]
  },
  {
   "cell_type": "code",
   "execution_count": 29,
   "id": "dbaf34db-6441-47a7-9a61-0f294c65aabb",
   "metadata": {},
   "outputs": [
    {
     "name": "stdout",
     "output_type": "stream",
     "text": [
      "Original Array:\n",
      "[[ 1  2  3  4]\n",
      " [ 5  6  7  8]\n",
      " [ 9 10 11 12]]\n",
      "\n",
      "Expanded Array:\n",
      "[[[ 1]\n",
      "  [ 2]\n",
      "  [ 3]\n",
      "  [ 4]]\n",
      "\n",
      " [[ 5]\n",
      "  [ 6]\n",
      "  [ 7]\n",
      "  [ 8]]\n",
      "\n",
      " [[ 9]\n",
      "  [10]\n",
      "  [11]\n",
      "  [12]]]\n"
     ]
    }
   ],
   "source": [
    "original_array = np.array([[1, 2, 3, 4], [5, 6, 7, 8], [9, 10, 11, 12]])\n",
    "expanded_array = np.expand_dims(original_array, axis=2)\n",
    "\n",
    "print(\"Original Array:\")\n",
    "print(original_array)\n",
    "\n",
    "print(\"\\nExpanded Array:\")\n",
    "print(expanded_array)"
   ]
  },
  {
   "cell_type": "markdown",
   "id": "9ab7f58b-fb70-4126-bac4-1459d10692b4",
   "metadata": {},
   "source": [
    "# 10. How to transpose the following array in NumPy?\n",
    "[[1, 2, 3, 4]\n",
    "[5, 6, 7, 8],\n",
    "[9, 10, 11, 12]]"
   ]
  },
  {
   "cell_type": "code",
   "execution_count": 30,
   "id": "1e9b8981-ee9d-406d-b85f-c1c00d99a34d",
   "metadata": {},
   "outputs": [],
   "source": [
    "arr1 = np.array([[1, 2, 3, 4,11,12], [5, 6, 7, 8,12,34], [9, 10, 11, 12,15,45]])\n",
    "\n",
    "arr1T= arr1.T"
   ]
  },
  {
   "cell_type": "code",
   "execution_count": 31,
   "id": "9ae697d9-e771-42de-a663-4954f2050fb9",
   "metadata": {},
   "outputs": [
    {
     "data": {
      "text/plain": [
       "array([[ 1,  5,  9],\n",
       "       [ 2,  6, 10],\n",
       "       [ 3,  7, 11],\n",
       "       [ 4,  8, 12],\n",
       "       [11, 12, 15],\n",
       "       [12, 34, 45]])"
      ]
     },
     "execution_count": 31,
     "metadata": {},
     "output_type": "execute_result"
    }
   ],
   "source": [
    "arr1T\n"
   ]
  },
  {
   "cell_type": "markdown",
   "id": "94ffee2b-6c00-436c-bb21-4c97c5ef7963",
   "metadata": {},
   "source": [
    "# 11. Consider the following matrix:\n",
    "Matrix A2 [[1, 2, 3, 4] [5, 6, 7, 8],[9, 10, 11, 12]]\n",
    "Matrix B2 [[1, 2, 3, 4] [5, 6, 7, 8],[9, 10, 11, 12]]\n",
    "Perform the following operation using Python1\n"
   ]
  },
  {
   "cell_type": "code",
   "execution_count": 32,
   "id": "5de59b6b-1320-4ff2-a06f-bd7417b67acd",
   "metadata": {},
   "outputs": [],
   "source": [
    "# INdex wiLe multiplicatio'"
   ]
  },
  {
   "cell_type": "code",
   "execution_count": 33,
   "id": "dd113db6-85ee-4aad-9366-c6ec6ff58653",
   "metadata": {},
   "outputs": [],
   "source": [
    "arr1 = arr = np.array([[1, 2, 3, 4], [5, 6, 7, 8], [9, 10, 11, 12]])\n",
    "arr2 = arr = np.array([[1, 2, 3, 4], [5, 6, 7, 8], [9, 10, 11, 12]])"
   ]
  },
  {
   "cell_type": "code",
   "execution_count": 35,
   "id": "fd9db4c0-e774-4f92-b087-4a9fd8d33c78",
   "metadata": {},
   "outputs": [
    {
     "data": {
      "text/plain": [
       "array([[  1,   4,   9,  16],\n",
       "       [ 25,  36,  49,  64],\n",
       "       [ 81, 100, 121, 144]])"
      ]
     },
     "execution_count": 35,
     "metadata": {},
     "output_type": "execute_result"
    }
   ],
   "source": [
    "# index wise multiplication\n",
    "\n",
    "indMul = arr1*arr2\n",
    "indMul"
   ]
  },
  {
   "cell_type": "code",
   "execution_count": 38,
   "id": "6f5646c2-5ca1-4bc9-94ae-f93ce3895d29",
   "metadata": {},
   "outputs": [
    {
     "data": {
      "text/plain": [
       "array([[ 58,  64],\n",
       "       [139, 154]])"
      ]
     },
     "execution_count": 38,
     "metadata": {},
     "output_type": "execute_result"
    }
   ],
   "source": [
    "# matrix Multiplication\n",
    "\n",
    "matrix_A = np.array([[1, 2, 3], [4, 5, 6]])\n",
    "matrix_B = np.array([[7, 8], [9, 10], [11, 12]])\n",
    "\n",
    "MatMul = matrix_A @ matrix_B\n",
    "MatMul"
   ]
  },
  {
   "cell_type": "code",
   "execution_count": 40,
   "id": "a53a53bd-d44a-4b5c-9fce-7d031c101626",
   "metadata": {},
   "outputs": [
    {
     "data": {
      "text/plain": [
       "array([[ 2,  4,  6,  8],\n",
       "       [10, 12, 14, 16],\n",
       "       [18, 20, 22, 24]])"
      ]
     },
     "execution_count": 40,
     "metadata": {},
     "output_type": "execute_result"
    }
   ],
   "source": [
    "# Add Both matrix\n",
    "\n",
    "additionMatrix = arr1+arr2\n",
    "additionMatrix"
   ]
  },
  {
   "cell_type": "code",
   "execution_count": 41,
   "id": "59beff2a-6447-473b-a8b2-df1a4a983df8",
   "metadata": {},
   "outputs": [
    {
     "data": {
      "text/plain": [
       "array([[0, 0, 0, 0],\n",
       "       [0, 0, 0, 0],\n",
       "       [0, 0, 0, 0]])"
      ]
     },
     "execution_count": 41,
     "metadata": {},
     "output_type": "execute_result"
    }
   ],
   "source": [
    "subMatrix = arr1-arr2\n",
    "subMatrix "
   ]
  },
  {
   "cell_type": "code",
   "execution_count": 42,
   "id": "1634184d-2d41-4e00-8694-1e1d45794091",
   "metadata": {},
   "outputs": [
    {
     "data": {
      "text/plain": [
       "array([[1., 1., 1., 1.],\n",
       "       [1., 1., 1., 1.],\n",
       "       [1., 1., 1., 1.]])"
      ]
     },
     "execution_count": 42,
     "metadata": {},
     "output_type": "execute_result"
    }
   ],
   "source": [
    "divMatrix = arr1/arr2\n",
    "divMatrix "
   ]
  },
  {
   "cell_type": "markdown",
   "id": "31ae1265-8cdc-47b2-bd07-cc4c55454bad",
   "metadata": {},
   "source": [
    "# 12. Which function in Numpy can be used to swap the byte order of an array?"
   ]
  },
  {
   "cell_type": "code",
   "execution_count": 43,
   "id": "629090e9-882d-4987-9de7-cef93fa98cde",
   "metadata": {},
   "outputs": [],
   "source": [
    "# np.ndarray.byteswap()"
   ]
  },
  {
   "cell_type": "markdown",
   "id": "cec33558-2511-4666-834d-8fa8580af627",
   "metadata": {},
   "source": [
    "# 13. What is the significance of the np.linalg.inv function?"
   ]
  },
  {
   "cell_type": "markdown",
   "id": "58fdf481-3dba-4faf-b0a3-a84b0dc87147",
   "metadata": {},
   "source": [
    "\n",
    "The np.linalg.inv function in NumPy is used to compute the inverse of a square matrix. The significance of this function lies in its application in solving systems of linear equations and various linear algebraic operations."
   ]
  },
  {
   "cell_type": "markdown",
   "id": "e04b7672-9a67-4f4f-aee2-be73e290e8fc",
   "metadata": {},
   "source": [
    "# 14. What does the np.reshape function do, and how is it used?"
   ]
  },
  {
   "cell_type": "markdown",
   "id": "52bbc06f-40b5-4116-b264-b5141a07ffd0",
   "metadata": {},
   "source": [
    "The np.reshape function in NumPy is used to change the shape (dimensions) of an array without changing its data. It returns a new array with the specified shape. The reshaping can be performed as long as the total number of elements in the array remains the same."
   ]
  },
  {
   "cell_type": "markdown",
   "id": "9b3f033e-a3ed-49bf-a802-454d74168a7e",
   "metadata": {},
   "source": [
    "# 15 What is broadcasting in Numpy?"
   ]
  },
  {
   "cell_type": "markdown",
   "id": "e8dfc33a-b806-429d-bb0c-76e754795d0b",
   "metadata": {},
   "source": [
    "Broadcasting in NumPy is a powerful mechanism that allows arrays of different shapes and sizes to be combined in arithmetic operations. It enables operations between arrays that would otherwise be incompatible due to their differing shapes, without the need for explicit looping or resizing.\n",
    "\n",
    "The fundamental concept behind broadcasting is to extend smaller arrays so that they have compatible shapes for arithmetic operations. This extension is done implicitly by NumPy, making it a convenient and efficient way to perform element-wise operations on arrays of different shapes."
   ]
  },
  {
   "cell_type": "code",
   "execution_count": null,
   "id": "6de828b1-e6f5-4fbf-aca0-23992caa686f",
   "metadata": {},
   "outputs": [],
   "source": []
  }
 ],
 "metadata": {
  "kernelspec": {
   "display_name": "Python 3 (ipykernel)",
   "language": "python",
   "name": "python3"
  },
  "language_info": {
   "codemirror_mode": {
    "name": "ipython",
    "version": 3
   },
   "file_extension": ".py",
   "mimetype": "text/x-python",
   "name": "python",
   "nbconvert_exporter": "python",
   "pygments_lexer": "ipython3",
   "version": "3.10.8"
  }
 },
 "nbformat": 4,
 "nbformat_minor": 5
}
